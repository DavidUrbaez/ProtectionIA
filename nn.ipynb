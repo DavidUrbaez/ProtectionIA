{
 "cells": [
  {
   "cell_type": "markdown",
   "metadata": {
    "_cell_guid": "b1076dfc-b9ad-4769-8c92-a6c4dae69d19",
    "_uuid": "8f2839f25d086af736a60e9eeb907d3b93b6e0e5"
   },
   "source": [
    "### **Proyecto Final Optimización e Inteligencia Artificial 2024-02**\n",
    "\n",
    "## Juan Botero"
   ]
  },
  {
   "cell_type": "markdown",
   "metadata": {},
   "source": [
    "# Redes Neuronales"
   ]
  },
  {
   "cell_type": "code",
   "execution_count": 23,
   "metadata": {
    "execution": {
     "iopub.execute_input": "2025-03-02T16:50:38.565438Z",
     "iopub.status.busy": "2025-03-02T16:50:38.565135Z",
     "iopub.status.idle": "2025-03-02T16:50:42.059180Z",
     "shell.execute_reply": "2025-03-02T16:50:42.058279Z",
     "shell.execute_reply.started": "2025-03-02T16:50:38.565417Z"
    },
    "trusted": true
   },
   "outputs": [
    {
     "name": "stdout",
     "output_type": "stream",
     "text": [
      "Requirement already satisfied: keras-tuner in /usr/local/lib/python3.10/dist-packages (1.4.7)\n",
      "Requirement already satisfied: keras in /usr/local/lib/python3.10/dist-packages (from keras-tuner) (3.5.0)\n",
      "Requirement already satisfied: packaging in /usr/local/lib/python3.10/dist-packages (from keras-tuner) (24.2)\n",
      "Requirement already satisfied: requests in /usr/local/lib/python3.10/dist-packages (from keras-tuner) (2.32.3)\n",
      "Requirement already satisfied: kt-legacy in /usr/local/lib/python3.10/dist-packages (from keras-tuner) (1.0.5)\n",
      "Requirement already satisfied: absl-py in /usr/local/lib/python3.10/dist-packages (from keras->keras-tuner) (1.4.0)\n",
      "Requirement already satisfied: numpy in /usr/local/lib/python3.10/dist-packages (from keras->keras-tuner) (1.26.4)\n",
      "Requirement already satisfied: rich in /usr/local/lib/python3.10/dist-packages (from keras->keras-tuner) (13.9.4)\n",
      "Requirement already satisfied: namex in /usr/local/lib/python3.10/dist-packages (from keras->keras-tuner) (0.0.8)\n",
      "Requirement already satisfied: h5py in /usr/local/lib/python3.10/dist-packages (from keras->keras-tuner) (3.12.1)\n",
      "Requirement already satisfied: optree in /usr/local/lib/python3.10/dist-packages (from keras->keras-tuner) (0.13.1)\n",
      "Requirement already satisfied: ml-dtypes in /usr/local/lib/python3.10/dist-packages (from keras->keras-tuner) (0.4.1)\n",
      "Requirement already satisfied: charset-normalizer<4,>=2 in /usr/local/lib/python3.10/dist-packages (from requests->keras-tuner) (3.4.1)\n",
      "Requirement already satisfied: idna<4,>=2.5 in /usr/local/lib/python3.10/dist-packages (from requests->keras-tuner) (3.10)\n",
      "Requirement already satisfied: urllib3<3,>=1.21.1 in /usr/local/lib/python3.10/dist-packages (from requests->keras-tuner) (2.3.0)\n",
      "Requirement already satisfied: certifi>=2017.4.17 in /usr/local/lib/python3.10/dist-packages (from requests->keras-tuner) (2025.1.31)\n",
      "Requirement already satisfied: mkl_fft in /usr/local/lib/python3.10/dist-packages (from numpy->keras->keras-tuner) (1.3.8)\n",
      "Requirement already satisfied: mkl_random in /usr/local/lib/python3.10/dist-packages (from numpy->keras->keras-tuner) (1.2.4)\n",
      "Requirement already satisfied: mkl_umath in /usr/local/lib/python3.10/dist-packages (from numpy->keras->keras-tuner) (0.1.1)\n",
      "Requirement already satisfied: mkl in /usr/local/lib/python3.10/dist-packages (from numpy->keras->keras-tuner) (2025.0.1)\n",
      "Requirement already satisfied: tbb4py in /usr/local/lib/python3.10/dist-packages (from numpy->keras->keras-tuner) (2022.0.0)\n",
      "Requirement already satisfied: mkl-service in /usr/local/lib/python3.10/dist-packages (from numpy->keras->keras-tuner) (2.4.1)\n",
      "Requirement already satisfied: typing-extensions>=4.5.0 in /usr/local/lib/python3.10/dist-packages (from optree->keras->keras-tuner) (4.12.2)\n",
      "Requirement already satisfied: markdown-it-py>=2.2.0 in /usr/local/lib/python3.10/dist-packages (from rich->keras->keras-tuner) (3.0.0)\n",
      "Requirement already satisfied: pygments<3.0.0,>=2.13.0 in /usr/local/lib/python3.10/dist-packages (from rich->keras->keras-tuner) (2.19.1)\n",
      "Requirement already satisfied: mdurl~=0.1 in /usr/local/lib/python3.10/dist-packages (from markdown-it-py>=2.2.0->rich->keras->keras-tuner) (0.1.2)\n",
      "Requirement already satisfied: intel-openmp>=2024 in /usr/local/lib/python3.10/dist-packages (from mkl->numpy->keras->keras-tuner) (2024.2.0)\n",
      "Requirement already satisfied: tbb==2022.* in /usr/local/lib/python3.10/dist-packages (from mkl->numpy->keras->keras-tuner) (2022.0.0)\n",
      "Requirement already satisfied: tcmlib==1.* in /usr/local/lib/python3.10/dist-packages (from tbb==2022.*->mkl->numpy->keras->keras-tuner) (1.2.0)\n",
      "Requirement already satisfied: intel-cmplr-lib-rt in /usr/local/lib/python3.10/dist-packages (from mkl_umath->numpy->keras->keras-tuner) (2024.2.0)\n",
      "Requirement already satisfied: intel-cmplr-lib-ur==2024.2.0 in /usr/local/lib/python3.10/dist-packages (from intel-openmp>=2024->mkl->numpy->keras->keras-tuner) (2024.2.0)\n"
     ]
    }
   ],
   "source": [
    "# Se instala el paquete para optimización de hiperparámetros\n",
    "!pip install keras-tuner --upgrade"
   ]
  },
  {
   "cell_type": "code",
   "execution_count": 1,
   "metadata": {
    "execution": {
     "iopub.execute_input": "2025-03-02T16:50:42.061099Z",
     "iopub.status.busy": "2025-03-02T16:50:42.060744Z",
     "iopub.status.idle": "2025-03-02T16:50:42.065560Z",
     "shell.execute_reply": "2025-03-02T16:50:42.064752Z",
     "shell.execute_reply.started": "2025-03-02T16:50:42.061064Z"
    },
    "trusted": true
   },
   "outputs": [
    {
     "name": "stderr",
     "output_type": "stream",
     "text": [
      "2025-03-04 08:32:40.080724: E external/local_xla/xla/stream_executor/cuda/cuda_fft.cc:477] Unable to register cuFFT factory: Attempting to register factory for plugin cuFFT when one has already been registered\n",
      "WARNING: All log messages before absl::InitializeLog() is called are written to STDERR\n",
      "E0000 00:00:1741095160.168423     816 cuda_dnn.cc:8310] Unable to register cuDNN factory: Attempting to register factory for plugin cuDNN when one has already been registered\n",
      "E0000 00:00:1741095160.193659     816 cuda_blas.cc:1418] Unable to register cuBLAS factory: Attempting to register factory for plugin cuBLAS when one has already been registered\n",
      "2025-03-04 08:32:40.387833: I tensorflow/core/platform/cpu_feature_guard.cc:210] This TensorFlow binary is optimized to use available CPU instructions in performance-critical operations.\n",
      "To enable the following instructions: AVX2 FMA, in other operations, rebuild TensorFlow with the appropriate compiler flags.\n"
     ]
    }
   ],
   "source": [
    "# Se importan las librerías requeridas\n",
    "import numpy as np\n",
    "import pandas as pd\n",
    "import matplotlib.pyplot as plt\n",
    "from tensorflow import keras\n",
    "from keras.optimizers import Adam, SGD, RMSprop\n",
    "from sklearn.model_selection import train_test_split\n",
    "from sklearn.preprocessing import StandardScaler\n",
    "import keras_tuner as kt\n",
    "from sklearn.metrics import confusion_matrix, ConfusionMatrixDisplay"
   ]
  },
  {
   "cell_type": "code",
   "execution_count": 2,
   "metadata": {
    "execution": {
     "iopub.execute_input": "2025-03-02T16:50:42.067093Z",
     "iopub.status.busy": "2025-03-02T16:50:42.066856Z",
     "iopub.status.idle": "2025-03-02T16:50:42.245164Z",
     "shell.execute_reply": "2025-03-02T16:50:42.244396Z",
     "shell.execute_reply.started": "2025-03-02T16:50:42.067073Z"
    },
    "trusted": true
   },
   "outputs": [],
   "source": [
    "# Cargar el dataset\n",
    "fault_data = pd.read_csv('./all_faults_dataset.csv', index_col=0)"
   ]
  },
  {
   "cell_type": "code",
   "execution_count": 3,
   "metadata": {
    "execution": {
     "iopub.execute_input": "2025-03-02T16:50:42.246672Z",
     "iopub.status.busy": "2025-03-02T16:50:42.246343Z",
     "iopub.status.idle": "2025-03-02T16:50:42.408972Z",
     "shell.execute_reply": "2025-03-02T16:50:42.408084Z",
     "shell.execute_reply.started": "2025-03-02T16:50:42.246630Z"
    },
    "trusted": true
   },
   "outputs": [
    {
     "name": "stderr",
     "output_type": "stream",
     "text": [
      "/tmp/ipykernel_816/875189200.py:3: FutureWarning: Downcasting behavior in `replace` is deprecated and will be removed in a future version. To retain the old behavior, explicitly call `result.infer_objects(copy=False)`. To opt-in to the future behavior, set `pd.set_option('future.no_silent_downcasting', True)`\n",
      "  fault_data.replace(transform, inplace=True)\n"
     ]
    }
   ],
   "source": [
    "relays = pd.unique(fault_data['Relay'])\n",
    "transform = dict(zip(relays, list(range(len(relays)))))\n",
    "fault_data.replace(transform, inplace=True)"
   ]
  },
  {
   "cell_type": "code",
   "execution_count": 4,
   "metadata": {
    "execution": {
     "iopub.execute_input": "2025-03-02T16:50:42.410166Z",
     "iopub.status.busy": "2025-03-02T16:50:42.409841Z",
     "iopub.status.idle": "2025-03-02T16:50:42.420829Z",
     "shell.execute_reply": "2025-03-02T16:50:42.420070Z",
     "shell.execute_reply.started": "2025-03-02T16:50:42.410134Z"
    },
    "trusted": true
   },
   "outputs": [
    {
     "data": {
      "text/html": [
       "<div>\n",
       "<style scoped>\n",
       "    .dataframe tbody tr th:only-of-type {\n",
       "        vertical-align: middle;\n",
       "    }\n",
       "\n",
       "    .dataframe tbody tr th {\n",
       "        vertical-align: top;\n",
       "    }\n",
       "\n",
       "    .dataframe thead th {\n",
       "        text-align: right;\n",
       "    }\n",
       "</style>\n",
       "<table border=\"1\" class=\"dataframe\">\n",
       "  <thead>\n",
       "    <tr style=\"text-align: right;\">\n",
       "      <th></th>\n",
       "      <th>Relay</th>\n",
       "      <th>inside</th>\n",
       "      <th>R</th>\n",
       "      <th>X</th>\n",
       "      <th>V</th>\n",
       "      <th>I</th>\n",
       "    </tr>\n",
       "  </thead>\n",
       "  <tbody>\n",
       "    <tr>\n",
       "      <th>0</th>\n",
       "      <td>0</td>\n",
       "      <td>1</td>\n",
       "      <td>0.041659</td>\n",
       "      <td>0.489193</td>\n",
       "      <td>0.014439</td>\n",
       "      <td>5.857787</td>\n",
       "    </tr>\n",
       "    <tr>\n",
       "      <th>1</th>\n",
       "      <td>0</td>\n",
       "      <td>1</td>\n",
       "      <td>3.861041</td>\n",
       "      <td>0.711635</td>\n",
       "      <td>0.113567</td>\n",
       "      <td>5.761720</td>\n",
       "    </tr>\n",
       "    <tr>\n",
       "      <th>2</th>\n",
       "      <td>0</td>\n",
       "      <td>1</td>\n",
       "      <td>7.708948</td>\n",
       "      <td>0.930964</td>\n",
       "      <td>0.218630</td>\n",
       "      <td>5.608261</td>\n",
       "    </tr>\n",
       "    <tr>\n",
       "      <th>3</th>\n",
       "      <td>0</td>\n",
       "      <td>1</td>\n",
       "      <td>11.585692</td>\n",
       "      <td>1.147093</td>\n",
       "      <td>0.316192</td>\n",
       "      <td>5.409643</td>\n",
       "    </tr>\n",
       "    <tr>\n",
       "      <th>4</th>\n",
       "      <td>0</td>\n",
       "      <td>1</td>\n",
       "      <td>15.491589</td>\n",
       "      <td>1.359930</td>\n",
       "      <td>0.404407</td>\n",
       "      <td>5.179814</td>\n",
       "    </tr>\n",
       "  </tbody>\n",
       "</table>\n",
       "</div>"
      ],
      "text/plain": [
       "   Relay  inside          R         X         V         I\n",
       "0      0       1   0.041659  0.489193  0.014439  5.857787\n",
       "1      0       1   3.861041  0.711635  0.113567  5.761720\n",
       "2      0       1   7.708948  0.930964  0.218630  5.608261\n",
       "3      0       1  11.585692  1.147093  0.316192  5.409643\n",
       "4      0       1  15.491589  1.359930  0.404407  5.179814"
      ]
     },
     "execution_count": 4,
     "metadata": {},
     "output_type": "execute_result"
    }
   ],
   "source": [
    "fault_data.head()"
   ]
  },
  {
   "cell_type": "code",
   "execution_count": 5,
   "metadata": {
    "execution": {
     "iopub.execute_input": "2025-03-02T16:50:42.421877Z",
     "iopub.status.busy": "2025-03-02T16:50:42.421607Z",
     "iopub.status.idle": "2025-03-02T16:50:42.438403Z",
     "shell.execute_reply": "2025-03-02T16:50:42.437676Z",
     "shell.execute_reply.started": "2025-03-02T16:50:42.421856Z"
    },
    "trusted": true
   },
   "outputs": [],
   "source": [
    "target = fault_data.loc[:, 'inside']\n",
    "fault_data = fault_data.loc[:, fault_data.columns != 'inside']"
   ]
  },
  {
   "cell_type": "code",
   "execution_count": 6,
   "metadata": {
    "execution": {
     "iopub.execute_input": "2025-03-02T16:50:42.439584Z",
     "iopub.status.busy": "2025-03-02T16:50:42.439318Z",
     "iopub.status.idle": "2025-03-02T16:50:42.451680Z",
     "shell.execute_reply": "2025-03-02T16:50:42.451016Z",
     "shell.execute_reply.started": "2025-03-02T16:50:42.439564Z"
    },
    "trusted": true
   },
   "outputs": [],
   "source": [
    "alpha = 1-((target == 1).sum()/target.count())"
   ]
  },
  {
   "cell_type": "code",
   "execution_count": 7,
   "metadata": {
    "execution": {
     "iopub.execute_input": "2025-03-02T16:50:42.454057Z",
     "iopub.status.busy": "2025-03-02T16:50:42.453841Z",
     "iopub.status.idle": "2025-03-02T16:50:42.488884Z",
     "shell.execute_reply": "2025-03-02T16:50:42.488205Z",
     "shell.execute_reply.started": "2025-03-02T16:50:42.454038Z"
    },
    "trusted": true
   },
   "outputs": [],
   "source": [
    "# Dividir los datos en entrenamiento, prueba y validación con porcentajes de 60, 25 y 15% respectivamente\n",
    "x_train, x_test, y_train, y_test = train_test_split(fault_data, target, test_size=0.25)\n",
    "# El 20% del 75% es el 15% del total\n",
    "x_train, x_valid, y_train, y_valid = train_test_split(x_train,y_train, test_size=0.2)"
   ]
  },
  {
   "cell_type": "code",
   "execution_count": 8,
   "metadata": {
    "execution": {
     "iopub.execute_input": "2025-03-02T16:50:42.490305Z",
     "iopub.status.busy": "2025-03-02T16:50:42.490070Z",
     "iopub.status.idle": "2025-03-02T16:50:42.497080Z",
     "shell.execute_reply": "2025-03-02T16:50:42.496236Z",
     "shell.execute_reply.started": "2025-03-02T16:50:42.490284Z"
    },
    "trusted": true
   },
   "outputs": [
    {
     "name": "stdout",
     "output_type": "stream",
     "text": [
      "4278\n",
      "1026\n",
      "1736\n"
     ]
    }
   ],
   "source": [
    "print((y_train == 1).sum())\n",
    "print((y_valid == 1).sum())\n",
    "print((y_test == 1).sum())"
   ]
  },
  {
   "cell_type": "code",
   "execution_count": 9,
   "metadata": {
    "execution": {
     "iopub.execute_input": "2025-03-02T16:50:42.498216Z",
     "iopub.status.busy": "2025-03-02T16:50:42.497953Z",
     "iopub.status.idle": "2025-03-02T16:50:42.534349Z",
     "shell.execute_reply": "2025-03-02T16:50:42.533575Z",
     "shell.execute_reply.started": "2025-03-02T16:50:42.498196Z"
    },
    "trusted": true
   },
   "outputs": [],
   "source": [
    "# Normalización de los datos\n",
    "scaler = StandardScaler()\n",
    "x_train = scaler.fit_transform(x_train)\n",
    "# Se entrena el normalizador únicamente con los datos de entrenamiento para independizar los conjuntos de validación y prueba\n",
    "x_valid = scaler.transform(x_valid)\n",
    "x_test = scaler.transform(x_test)"
   ]
  },
  {
   "cell_type": "code",
   "execution_count": 10,
   "metadata": {
    "execution": {
     "iopub.execute_input": "2025-03-02T16:50:42.535406Z",
     "iopub.status.busy": "2025-03-02T16:50:42.535159Z",
     "iopub.status.idle": "2025-03-02T16:50:42.541849Z",
     "shell.execute_reply": "2025-03-02T16:50:42.540936Z",
     "shell.execute_reply.started": "2025-03-02T16:50:42.535383Z"
    },
    "trusted": true
   },
   "outputs": [],
   "source": [
    "# Se crea la función para definición del modelo con optimización de hiperparámetros\n",
    "early_stopping = keras.callbacks.EarlyStopping(\n",
    "    monitor='val_loss',\n",
    "    patience=10,\n",
    "    restore_best_weights=True\n",
    ")\n",
    "def model_builder(hp):\n",
    "    optimizer_type = hp.Choice('optimizer', ['adam', 'sgd', 'rmsprop'])\n",
    "\n",
    "    if optimizer_type == 'adam':\n",
    "        optimizer = Adam(learning_rate=hp.Choice('learning_rate', [0.0001, 0.001, 0.01]))\n",
    "    elif optimizer_type == 'sgd':\n",
    "        optimizer = SGD(learning_rate=hp.Choice('learning_rate', [0.0001, 0.001, 0.01]))\n",
    "    else:\n",
    "        optimizer = RMSprop(learning_rate=hp.Choice('learning_rate', [0.0001, 0.001, 0.01]))\n",
    "    model = keras.Sequential()\n",
    "    # Capa de entrada con optimizacion del numero de neuronas\n",
    "    model.add(keras.layers.Dense(hp.Int('units_0',min_value=20,max_value=80,step=10), activation=\"relu\", input_shape=(5,)))\n",
    "    # Optimizacion del numero de capas ocultas adicionales\n",
    "    for i in range(hp.Int('num_layers', 1, 4)):\n",
    "          model.add(keras.layers.Dense(units=hp.Int('units_' + str(i+1),min_value=20,max_value=80,step=10),\n",
    "                                 activation='relu'))\n",
    "    # Capa de salida\n",
    "    model.add(keras.layers.Dense(1, activation='sigmoid'))\n",
    "    # Optimización de gamma\n",
    "    hp_gamma = hp.Int('gamma',min_value=1,max_value=5,step=1)\n",
    "    # Compilacion\n",
    "    model.compile(optimizer=optimizer, loss=keras.losses.BinaryFocalCrossentropy(apply_class_balancing=True, alpha=alpha ,gamma=hp_gamma),  \n",
    "                  metrics=[keras.metrics.AUC(curve='PR')])\n",
    "    return model"
   ]
  },
  {
   "cell_type": "code",
   "execution_count": 11,
   "metadata": {
    "execution": {
     "iopub.execute_input": "2025-03-02T16:50:42.543175Z",
     "iopub.status.busy": "2025-03-02T16:50:42.542800Z",
     "iopub.status.idle": "2025-03-02T19:53:11.611314Z",
     "shell.execute_reply": "2025-03-02T19:53:11.610617Z",
     "shell.execute_reply.started": "2025-03-02T16:50:42.543129Z"
    },
    "trusted": true
   },
   "outputs": [
    {
     "name": "stdout",
     "output_type": "stream",
     "text": [
      "Trial 30 Complete [00h 09m 20s]\n",
      "val_auc: 0.7830460071563721\n",
      "\n",
      "Best val_auc So Far: 0.9907407760620117\n",
      "Total elapsed time: 03h 26m 36s\n"
     ]
    }
   ],
   "source": [
    "# Se aplica la búsqueda aleatoria\n",
    "tuner = kt.RandomSearch(model_builder,\n",
    "                        objective='val_auc',\n",
    "                        max_trials=30,\n",
    "                        overwrite=True)\n",
    "tuner.search(x_train,y_train,epochs=100,\n",
    "             validation_data=(x_valid,y_valid), callbacks=[early_stopping])"
   ]
  },
  {
   "cell_type": "code",
   "execution_count": 12,
   "metadata": {
    "execution": {
     "iopub.execute_input": "2025-03-02T19:53:11.612386Z",
     "iopub.status.busy": "2025-03-02T19:53:11.612102Z",
     "iopub.status.idle": "2025-03-02T19:53:12.443308Z",
     "shell.execute_reply": "2025-03-02T19:53:12.442448Z",
     "shell.execute_reply.started": "2025-03-02T19:53:11.612351Z"
    },
    "trusted": true
   },
   "outputs": [
    {
     "name": "stderr",
     "output_type": "stream",
     "text": [
      "/home/andres/.local/lib/python3.12/site-packages/keras/src/saving/saving_lib.py:757: UserWarning: Skipping variable loading for optimizer 'adam', because it has 2 variables whereas the saved optimizer has 18 variables. \n",
      "  saveable.load_own_variables(weights_store.get(inner_path))\n"
     ]
    },
    {
     "data": {
      "text/html": [
       "<pre style=\"white-space:pre;overflow-x:auto;line-height:normal;font-family:Menlo,'DejaVu Sans Mono',consolas,'Courier New',monospace\"><span style=\"font-weight: bold\">Model: \"sequential\"</span>\n",
       "</pre>\n"
      ],
      "text/plain": [
       "\u001b[1mModel: \"sequential\"\u001b[0m\n"
      ]
     },
     "metadata": {},
     "output_type": "display_data"
    },
    {
     "data": {
      "text/html": [
       "<pre style=\"white-space:pre;overflow-x:auto;line-height:normal;font-family:Menlo,'DejaVu Sans Mono',consolas,'Courier New',monospace\">┏━━━━━━━━━━━━━━━━━━━━━━━━━━━━━━━━━┳━━━━━━━━━━━━━━━━━━━━━━━━┳━━━━━━━━━━━━━━━┓\n",
       "┃<span style=\"font-weight: bold\"> Layer (type)                    </span>┃<span style=\"font-weight: bold\"> Output Shape           </span>┃<span style=\"font-weight: bold\">       Param # </span>┃\n",
       "┡━━━━━━━━━━━━━━━━━━━━━━━━━━━━━━━━━╇━━━━━━━━━━━━━━━━━━━━━━━━╇━━━━━━━━━━━━━━━┩\n",
       "│ dense (<span style=\"color: #0087ff; text-decoration-color: #0087ff\">Dense</span>)                   │ (<span style=\"color: #00d7ff; text-decoration-color: #00d7ff\">None</span>, <span style=\"color: #00af00; text-decoration-color: #00af00\">60</span>)             │           <span style=\"color: #00af00; text-decoration-color: #00af00\">360</span> │\n",
       "├─────────────────────────────────┼────────────────────────┼───────────────┤\n",
       "│ dense_1 (<span style=\"color: #0087ff; text-decoration-color: #0087ff\">Dense</span>)                 │ (<span style=\"color: #00d7ff; text-decoration-color: #00d7ff\">None</span>, <span style=\"color: #00af00; text-decoration-color: #00af00\">60</span>)             │         <span style=\"color: #00af00; text-decoration-color: #00af00\">3,660</span> │\n",
       "├─────────────────────────────────┼────────────────────────┼───────────────┤\n",
       "│ dense_2 (<span style=\"color: #0087ff; text-decoration-color: #0087ff\">Dense</span>)                 │ (<span style=\"color: #00d7ff; text-decoration-color: #00d7ff\">None</span>, <span style=\"color: #00af00; text-decoration-color: #00af00\">40</span>)             │         <span style=\"color: #00af00; text-decoration-color: #00af00\">2,440</span> │\n",
       "├─────────────────────────────────┼────────────────────────┼───────────────┤\n",
       "│ dense_3 (<span style=\"color: #0087ff; text-decoration-color: #0087ff\">Dense</span>)                 │ (<span style=\"color: #00d7ff; text-decoration-color: #00d7ff\">None</span>, <span style=\"color: #00af00; text-decoration-color: #00af00\">1</span>)              │            <span style=\"color: #00af00; text-decoration-color: #00af00\">41</span> │\n",
       "└─────────────────────────────────┴────────────────────────┴───────────────┘\n",
       "</pre>\n"
      ],
      "text/plain": [
       "┏━━━━━━━━━━━━━━━━━━━━━━━━━━━━━━━━━┳━━━━━━━━━━━━━━━━━━━━━━━━┳━━━━━━━━━━━━━━━┓\n",
       "┃\u001b[1m \u001b[0m\u001b[1mLayer (type)                   \u001b[0m\u001b[1m \u001b[0m┃\u001b[1m \u001b[0m\u001b[1mOutput Shape          \u001b[0m\u001b[1m \u001b[0m┃\u001b[1m \u001b[0m\u001b[1m      Param #\u001b[0m\u001b[1m \u001b[0m┃\n",
       "┡━━━━━━━━━━━━━━━━━━━━━━━━━━━━━━━━━╇━━━━━━━━━━━━━━━━━━━━━━━━╇━━━━━━━━━━━━━━━┩\n",
       "│ dense (\u001b[38;5;33mDense\u001b[0m)                   │ (\u001b[38;5;45mNone\u001b[0m, \u001b[38;5;34m60\u001b[0m)             │           \u001b[38;5;34m360\u001b[0m │\n",
       "├─────────────────────────────────┼────────────────────────┼───────────────┤\n",
       "│ dense_1 (\u001b[38;5;33mDense\u001b[0m)                 │ (\u001b[38;5;45mNone\u001b[0m, \u001b[38;5;34m60\u001b[0m)             │         \u001b[38;5;34m3,660\u001b[0m │\n",
       "├─────────────────────────────────┼────────────────────────┼───────────────┤\n",
       "│ dense_2 (\u001b[38;5;33mDense\u001b[0m)                 │ (\u001b[38;5;45mNone\u001b[0m, \u001b[38;5;34m40\u001b[0m)             │         \u001b[38;5;34m2,440\u001b[0m │\n",
       "├─────────────────────────────────┼────────────────────────┼───────────────┤\n",
       "│ dense_3 (\u001b[38;5;33mDense\u001b[0m)                 │ (\u001b[38;5;45mNone\u001b[0m, \u001b[38;5;34m1\u001b[0m)              │            \u001b[38;5;34m41\u001b[0m │\n",
       "└─────────────────────────────────┴────────────────────────┴───────────────┘\n"
      ]
     },
     "metadata": {},
     "output_type": "display_data"
    },
    {
     "data": {
      "text/html": [
       "<pre style=\"white-space:pre;overflow-x:auto;line-height:normal;font-family:Menlo,'DejaVu Sans Mono',consolas,'Courier New',monospace\"><span style=\"font-weight: bold\"> Total params: </span><span style=\"color: #00af00; text-decoration-color: #00af00\">6,501</span> (25.39 KB)\n",
       "</pre>\n"
      ],
      "text/plain": [
       "\u001b[1m Total params: \u001b[0m\u001b[38;5;34m6,501\u001b[0m (25.39 KB)\n"
      ]
     },
     "metadata": {},
     "output_type": "display_data"
    },
    {
     "data": {
      "text/html": [
       "<pre style=\"white-space:pre;overflow-x:auto;line-height:normal;font-family:Menlo,'DejaVu Sans Mono',consolas,'Courier New',monospace\"><span style=\"font-weight: bold\"> Trainable params: </span><span style=\"color: #00af00; text-decoration-color: #00af00\">6,501</span> (25.39 KB)\n",
       "</pre>\n"
      ],
      "text/plain": [
       "\u001b[1m Trainable params: \u001b[0m\u001b[38;5;34m6,501\u001b[0m (25.39 KB)\n"
      ]
     },
     "metadata": {},
     "output_type": "display_data"
    },
    {
     "data": {
      "text/html": [
       "<pre style=\"white-space:pre;overflow-x:auto;line-height:normal;font-family:Menlo,'DejaVu Sans Mono',consolas,'Courier New',monospace\"><span style=\"font-weight: bold\"> Non-trainable params: </span><span style=\"color: #00af00; text-decoration-color: #00af00\">0</span> (0.00 B)\n",
       "</pre>\n"
      ],
      "text/plain": [
       "\u001b[1m Non-trainable params: \u001b[0m\u001b[38;5;34m0\u001b[0m (0.00 B)\n"
      ]
     },
     "metadata": {},
     "output_type": "display_data"
    }
   ],
   "source": [
    "# Se obtiene el mejor modelo entrenado\n",
    "best_model = tuner.get_best_models(num_models=1)[0]\n",
    "best_model.summary()"
   ]
  },
  {
   "cell_type": "code",
   "execution_count": 13,
   "metadata": {
    "execution": {
     "iopub.execute_input": "2025-03-02T19:53:12.444531Z",
     "iopub.status.busy": "2025-03-02T19:53:12.444209Z",
     "iopub.status.idle": "2025-03-02T19:53:12.474375Z",
     "shell.execute_reply": "2025-03-02T19:53:12.473803Z",
     "shell.execute_reply.started": "2025-03-02T19:53:12.444500Z"
    },
    "trusted": true
   },
   "outputs": [
    {
     "name": "stdout",
     "output_type": "stream",
     "text": [
      "Results summary\n",
      "Results in ./untitled_project\n",
      "Showing 10 best trials\n",
      "Objective(name=\"val_auc\", direction=\"max\")\n",
      "\n",
      "Trial 02 summary\n",
      "Hyperparameters:\n",
      "optimizer: adam\n",
      "learning_rate: 0.001\n",
      "units_0: 60\n",
      "num_layers: 2\n",
      "units_1: 60\n",
      "gamma: 4\n",
      "units_2: 40\n",
      "Score: 0.9907407760620117\n",
      "\n",
      "Trial 04 summary\n",
      "Hyperparameters:\n",
      "optimizer: adam\n",
      "learning_rate: 0.001\n",
      "units_0: 70\n",
      "num_layers: 2\n",
      "units_1: 60\n",
      "gamma: 3\n",
      "units_2: 60\n",
      "Score: 0.9839872121810913\n",
      "\n",
      "Trial 17 summary\n",
      "Hyperparameters:\n",
      "optimizer: adam\n",
      "learning_rate: 0.0001\n",
      "units_0: 40\n",
      "num_layers: 4\n",
      "units_1: 70\n",
      "gamma: 5\n",
      "units_2: 40\n",
      "units_3: 40\n",
      "units_4: 70\n",
      "Score: 0.9837029576301575\n",
      "\n",
      "Trial 25 summary\n",
      "Hyperparameters:\n",
      "optimizer: adam\n",
      "learning_rate: 0.0001\n",
      "units_0: 60\n",
      "num_layers: 3\n",
      "units_1: 60\n",
      "gamma: 4\n",
      "units_2: 60\n",
      "units_3: 40\n",
      "units_4: 50\n",
      "Score: 0.9812583327293396\n",
      "\n",
      "Trial 00 summary\n",
      "Hyperparameters:\n",
      "optimizer: adam\n",
      "learning_rate: 0.001\n",
      "units_0: 30\n",
      "num_layers: 2\n",
      "units_1: 60\n",
      "gamma: 2\n",
      "units_2: 20\n",
      "Score: 0.9768148064613342\n",
      "\n",
      "Trial 24 summary\n",
      "Hyperparameters:\n",
      "optimizer: adam\n",
      "learning_rate: 0.0001\n",
      "units_0: 80\n",
      "num_layers: 1\n",
      "units_1: 70\n",
      "gamma: 3\n",
      "units_2: 20\n",
      "units_3: 80\n",
      "units_4: 50\n",
      "Score: 0.9691047072410583\n",
      "\n",
      "Trial 12 summary\n",
      "Hyperparameters:\n",
      "optimizer: adam\n",
      "learning_rate: 0.0001\n",
      "units_0: 40\n",
      "num_layers: 1\n",
      "units_1: 60\n",
      "gamma: 5\n",
      "units_2: 20\n",
      "units_3: 70\n",
      "units_4: 80\n",
      "Score: 0.9563579559326172\n",
      "\n",
      "Trial 08 summary\n",
      "Hyperparameters:\n",
      "optimizer: rmsprop\n",
      "learning_rate: 0.0001\n",
      "units_0: 70\n",
      "num_layers: 3\n",
      "units_1: 50\n",
      "gamma: 2\n",
      "units_2: 60\n",
      "units_3: 80\n",
      "units_4: 50\n",
      "Score: 0.9556387662887573\n",
      "\n",
      "Trial 01 summary\n",
      "Hyperparameters:\n",
      "optimizer: adam\n",
      "learning_rate: 0.0001\n",
      "units_0: 60\n",
      "num_layers: 1\n",
      "units_1: 30\n",
      "gamma: 2\n",
      "units_2: 80\n",
      "Score: 0.9496772289276123\n",
      "\n",
      "Trial 07 summary\n",
      "Hyperparameters:\n",
      "optimizer: rmsprop\n",
      "learning_rate: 0.001\n",
      "units_0: 20\n",
      "num_layers: 3\n",
      "units_1: 60\n",
      "gamma: 1\n",
      "units_2: 60\n",
      "units_3: 70\n",
      "units_4: 40\n",
      "Score: 0.9438537359237671\n"
     ]
    }
   ],
   "source": [
    "# Parametros seleccionados\n",
    "tuner.results_summary()"
   ]
  },
  {
   "cell_type": "code",
   "execution_count": 14,
   "metadata": {
    "execution": {
     "iopub.execute_input": "2025-03-02T19:53:12.475337Z",
     "iopub.status.busy": "2025-03-02T19:53:12.475066Z",
     "iopub.status.idle": "2025-03-02T19:53:14.361319Z",
     "shell.execute_reply": "2025-03-02T19:53:14.360617Z",
     "shell.execute_reply.started": "2025-03-02T19:53:12.475309Z"
    },
    "trusted": true
   },
   "outputs": [
    {
     "name": "stdout",
     "output_type": "stream",
     "text": [
      "\u001b[1m935/935\u001b[0m \u001b[32m━━━━━━━━━━━━━━━━━━━━\u001b[0m\u001b[37m\u001b[0m \u001b[1m2s\u001b[0m 2ms/step - auc: 0.9873 - loss: 2.3412e-04\n"
     ]
    },
    {
     "data": {
      "text/plain": [
       "[0.0002134781825589016, 0.9904541969299316]"
      ]
     },
     "execution_count": 14,
     "metadata": {},
     "output_type": "execute_result"
    }
   ],
   "source": [
    "# Se evalua el desempeño del modelo\n",
    "best_model.evaluate(x_test, y_test)"
   ]
  },
  {
   "cell_type": "code",
   "execution_count": 15,
   "metadata": {
    "execution": {
     "iopub.execute_input": "2025-03-02T19:53:14.362569Z",
     "iopub.status.busy": "2025-03-02T19:53:14.362260Z",
     "iopub.status.idle": "2025-03-02T19:53:16.103341Z",
     "shell.execute_reply": "2025-03-02T19:53:16.102312Z",
     "shell.execute_reply.started": "2025-03-02T19:53:14.362537Z"
    },
    "trusted": true
   },
   "outputs": [
    {
     "name": "stdout",
     "output_type": "stream",
     "text": [
      "\u001b[1m935/935\u001b[0m \u001b[32m━━━━━━━━━━━━━━━━━━━━\u001b[0m\u001b[37m\u001b[0m \u001b[1m1s\u001b[0m 1ms/step\n"
     ]
    }
   ],
   "source": [
    "y_pred=np.round(best_model.predict(x_test))"
   ]
  },
  {
   "cell_type": "code",
   "execution_count": 16,
   "metadata": {
    "execution": {
     "iopub.execute_input": "2025-03-02T19:53:16.104946Z",
     "iopub.status.busy": "2025-03-02T19:53:16.104617Z",
     "iopub.status.idle": "2025-03-02T19:53:16.292114Z",
     "shell.execute_reply": "2025-03-02T19:53:16.291313Z",
     "shell.execute_reply.started": "2025-03-02T19:53:16.104916Z"
    },
    "trusted": true
   },
   "outputs": [
    {
     "data": {
      "text/plain": [
       "<sklearn.metrics._plot.confusion_matrix.ConfusionMatrixDisplay at 0x7f97f1bc20c0>"
      ]
     },
     "execution_count": 16,
     "metadata": {},
     "output_type": "execute_result"
    },
    {
     "data": {
      "image/png": "[encoded data removed]",
      "text/plain": [
       "<Figure size 640x480 with 2 Axes>"
      ]
     },
     "metadata": {},
     "output_type": "display_data"
    }
   ],
   "source": [
    "cm = confusion_matrix(y_test, y_pred)\n",
    "disp = ConfusionMatrixDisplay(confusion_matrix=cm, display_labels=pd.unique(y_test))\n",
    "disp.plot()"
   ]
  },
  {
   "cell_type": "code",
   "execution_count": 41,
   "metadata": {
    "execution": {
     "iopub.execute_input": "2025-03-02T19:58:43.005026Z",
     "iopub.status.busy": "2025-03-02T19:58:43.004504Z",
     "iopub.status.idle": "2025-03-02T19:58:43.038653Z",
     "shell.execute_reply": "2025-03-02T19:58:43.038052Z",
     "shell.execute_reply.started": "2025-03-02T19:58:43.005000Z"
    },
    "trusted": true
   },
   "outputs": [],
   "source": [
    "best_model.save('fault_neural_network.keras')"
   ]
  },
  {
   "cell_type": "code",
   "execution_count": null,
   "metadata": {
    "trusted": true
   },
   "outputs": [],
   "source": []
  }
 ],
 "metadata": {
  "kaggle": {
   "accelerator": "gpu",
   "dataSources": [
    {
     "datasetId": 6769645,
     "sourceId": 10893257,
     "sourceType": "datasetVersion"
    }
   ],
   "dockerImageVersionId": 30918,
   "isGpuEnabled": true,
   "isInternetEnabled": true,
   "language": "python",
   "sourceType": "notebook"
  },
  "kernelspec": {
   "display_name": "Python 3",
   "language": "python",
   "name": "python3"
  },
  "language_info": {
   "codemirror_mode": {
    "name": "ipython",
    "version": 3
   },
   "file_extension": ".py",
   "mimetype": "text/x-python",
   "name": "python",
   "nbconvert_exporter": "python",
   "pygments_lexer": "ipython3",
   "version": "3.12.3"
  }
 },
 "nbformat": 4,
 "nbformat_minor": 4
}
